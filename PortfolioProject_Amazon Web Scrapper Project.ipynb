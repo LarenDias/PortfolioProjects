{
 "cells": [
  {
   "cell_type": "code",
   "execution_count": 2,
   "id": "718723ca",
   "metadata": {},
   "outputs": [],
   "source": [
    "#import liabraries\n",
    "\n",
    "from bs4 import BeautifulSoup\n",
    "import requests\n",
    "import time\n",
    "import datetime\n",
    "\n",
    "import smtplib"
   ]
  },
  {
   "cell_type": "code",
   "execution_count": 125,
   "id": "93a1e771",
   "metadata": {},
   "outputs": [
    {
     "name": "stdout",
     "output_type": "stream",
     "text": [
      "\n",
      "                   DUDEME I'm Offline | Programmer T Shirt | Coding T Shirt for Coders | Developer T Shirt | Round Neck Cotton T-Shirt | Geek Half Sleeve T Shirt for Men & Women\n",
      "                  \n",
      "\n",
      "                  ₹499\n",
      "                 \n"
     ]
    }
   ],
   "source": [
    "# connect to website\n",
    "\n",
    "URL = 'https://www.amazon.in/DUDEME-Offline-Programmer-Developer-T-Shirt/dp/B08SKLCF53/ref=sr_1_4?keywords=data%2Banalyst%2Btshirt&sr=8-4&th=1&psc=1'\n",
    "headers = {\"ser-Agent\": \"Mozilla/5.0 (Windows NT 10.0; Win64; x64) AppleWebKit/537.36 (KHTML, like Gecko) Chrome/112.0.0.0 Safari/537.36\"}\n",
    "page = requests.get(URL, headers = headers)\n",
    "soup1 = BeautifulSoup(page.content, \"html.parser\")\n",
    "soup2 = BeautifulSoup(soup1.prettify(), \"html.parser\")\n",
    "\n",
    "title = soup2.find(id = 'productTitle').get_text()\n",
    "price = soup2.find('span',{'class':'a-offscreen'}).get_text()\n",
    "\n",
    "#title = soup2.find('span',{'id': 'productTitle'}).get_text()\n",
    "#price = soup2.find('span', {'class':'a-price-whole'}).get_text()\n",
    "\n",
    "\n",
    "print(title)\n",
    "print(price)\n"
   ]
  },
  {
   "cell_type": "code",
   "execution_count": 126,
   "id": "ffefdb94",
   "metadata": {},
   "outputs": [
    {
     "name": "stdout",
     "output_type": "stream",
     "text": [
      "DUDEME I'm Offline | Programmer T Shirt \n",
      "499\n"
     ]
    }
   ],
   "source": [
    "price = price.strip()[1:]\n",
    "title = title.strip()[0:40]\n",
    "print(title)\n",
    "print(price)"
   ]
  },
  {
   "cell_type": "code",
   "execution_count": 132,
   "id": "cf89ec3a",
   "metadata": {},
   "outputs": [
    {
     "name": "stdout",
     "output_type": "stream",
     "text": [
      "2023-04-25\n"
     ]
    }
   ],
   "source": [
    "today = datetime.date.today()\n",
    "print(today)"
   ]
  },
  {
   "cell_type": "code",
   "execution_count": 133,
   "id": "b45b94d8",
   "metadata": {},
   "outputs": [],
   "source": [
    "import csv\n",
    "\n",
    "header = ['Title', 'Price', 'Date']\n",
    "data = [title, price, today]\n",
    "\n",
    "with open('AmazonWebScraperDataset.csv', 'w', newline = '', encoding = 'UTF8') as f:\n",
    "    writer = csv.writer(f)\n",
    "    writer.writerow(header)\n",
    "    writer.writerow(data)\n"
   ]
  },
  {
   "cell_type": "code",
   "execution_count": 139,
   "id": "02945d2e",
   "metadata": {},
   "outputs": [
    {
     "name": "stdout",
     "output_type": "stream",
     "text": [
      "                                      Title  Price        Date\n",
      "0  DUDEME I'm Offline | Programmer T Shirt     499  2023-04-25\n",
      "1  DUDEME I'm Offline | Programmer T Shirt     499  2023-04-25\n"
     ]
    }
   ],
   "source": [
    "import pandas as pd\n",
    "\n",
    "df = pd.read_csv(r'C:\\Users\\diasl\\AmazonWebScraperDataset.csv')\n",
    "\n",
    "print(df)"
   ]
  },
  {
   "cell_type": "code",
   "execution_count": 138,
   "id": "95f6cfb7",
   "metadata": {},
   "outputs": [],
   "source": [
    "# Now we are appending to this CSV\n",
    "\n",
    "with open('AmazonWebScraperDataset.csv', 'a+', newline = '', encoding = 'UTF8') as f:\n",
    "    writer = csv.writer(f)\n",
    "    writer.writerow(data)\n"
   ]
  },
  {
   "cell_type": "code",
   "execution_count": 142,
   "id": "17ee97d0",
   "metadata": {},
   "outputs": [],
   "source": [
    "\n",
    "\n",
    "def check_price():\n",
    "    URL = 'https://www.amazon.in/DUDEME-Offline-Programmer-Developer-T-Shirt/dp/B08SKLCF53/ref=sr_1_4?keywords=data%2Banalyst%2Btshirt&sr=8-4&th=1&psc=1'\n",
    "    headers = {\"ser-Agent\": \"Mozilla/5.0 (Windows NT 10.0; Win64; x64) AppleWebKit/537.36 (KHTML, like Gecko) Chrome/112.0.0.0 Safari/537.36\"}\n",
    "    page = requests.get(URL, headers = headers)\n",
    "    soup1 = BeautifulSoup(page.content, \"html.parser\")\n",
    "    soup2 = BeautifulSoup(soup1.prettify(), \"html.parser\")\n",
    "    title = soup2.find(id = 'productTitle').get_text()\n",
    "    price = soup2.find('span',{'class':'a-offscreen'}).get_text()\n",
    "   \n",
    "    price = price.strip()[1:]\n",
    "    title = title.strip()[0:40]\n",
    "    \n",
    "    today = datetime.date.today()\n",
    "    \n",
    "    header = ['Title', 'Price', 'Date']\n",
    "    data = [title, price, today]\n",
    "    \n",
    "    with open('AmazonWebScraperDataset.csv', 'a+', newline = '', encoding = 'UTF8') as f:\n",
    "        writer = csv.writer(f)\n",
    "        writer.writerow(data)\n",
    "    "
   ]
  },
  {
   "cell_type": "code",
   "execution_count": 147,
   "id": "79636f74",
   "metadata": {},
   "outputs": [
    {
     "ename": "KeyboardInterrupt",
     "evalue": "",
     "output_type": "error",
     "traceback": [
      "\u001b[1;31m---------------------------------------------------------------------------\u001b[0m",
      "\u001b[1;31mKeyboardInterrupt\u001b[0m                         Traceback (most recent call last)",
      "\u001b[1;32m~\\AppData\\Local\\Temp\\ipykernel_2952\\127927899.py\u001b[0m in \u001b[0;36m<module>\u001b[1;34m\u001b[0m\n\u001b[0;32m      1\u001b[0m \u001b[1;32mwhile\u001b[0m\u001b[1;33m(\u001b[0m\u001b[1;32mTrue\u001b[0m\u001b[1;33m)\u001b[0m\u001b[1;33m:\u001b[0m\u001b[1;33m\u001b[0m\u001b[1;33m\u001b[0m\u001b[0m\n\u001b[0;32m      2\u001b[0m     \u001b[0mcheck_price\u001b[0m\u001b[1;33m(\u001b[0m\u001b[1;33m)\u001b[0m\u001b[1;33m\u001b[0m\u001b[1;33m\u001b[0m\u001b[0m\n\u001b[1;32m----> 3\u001b[1;33m     \u001b[0mtime\u001b[0m\u001b[1;33m.\u001b[0m\u001b[0msleep\u001b[0m\u001b[1;33m(\u001b[0m\u001b[1;36m5\u001b[0m\u001b[1;33m)\u001b[0m\u001b[1;33m\u001b[0m\u001b[1;33m\u001b[0m\u001b[0m\n\u001b[0m",
      "\u001b[1;31mKeyboardInterrupt\u001b[0m: "
     ]
    }
   ],
   "source": [
    "while(True):\n",
    "    check_price()\n",
    "    time.sleep(86400) "
   ]
  },
  {
   "cell_type": "code",
   "execution_count": 148,
   "id": "d07df172",
   "metadata": {},
   "outputs": [
    {
     "name": "stdout",
     "output_type": "stream",
     "text": [
      "                                      Title  Price        Date\n",
      "0  DUDEME I'm Offline | Programmer T Shirt     499  2023-04-25\n",
      "1  DUDEME I'm Offline | Programmer T Shirt     499  2023-04-25\n",
      "2  DUDEME I'm Offline | Programmer T Shirt     499  2023-04-25\n",
      "3  DUDEME I'm Offline | Programmer T Shirt     499  2023-04-25\n",
      "4  DUDEME I'm Offline | Programmer T Shirt     499  2023-04-25\n"
     ]
    }
   ],
   "source": [
    "import pandas as pd\n",
    "\n",
    "df = pd.read_csv(r'C:\\Users\\diasl\\AmazonWebScraperDataset.csv')\n",
    "\n",
    "print(df)"
   ]
  }
 ],
 "metadata": {
  "kernelspec": {
   "display_name": "Python 3 (ipykernel)",
   "language": "python",
   "name": "python3"
  },
  "language_info": {
   "codemirror_mode": {
    "name": "ipython",
    "version": 3
   },
   "file_extension": ".py",
   "mimetype": "text/x-python",
   "name": "python",
   "nbconvert_exporter": "python",
   "pygments_lexer": "ipython3",
   "version": "3.9.13"
  }
 },
 "nbformat": 4,
 "nbformat_minor": 5
}
